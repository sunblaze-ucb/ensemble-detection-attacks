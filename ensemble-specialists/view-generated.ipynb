{
 "cells": [
  {
   "cell_type": "code",
   "execution_count": 1,
   "metadata": {
    "collapsed": true
   },
   "outputs": [],
   "source": [
    "import numpy as np\n",
    "import matplotlib\n",
    "import matplotlib.pyplot as plt\n",
    "import matplotlib.gridspec as gridspec\n",
    "import bisect"
   ]
  },
  {
   "cell_type": "code",
   "execution_count": 4,
   "metadata": {},
   "outputs": [
    {
     "name": "stdout",
     "output_type": "stream",
     "text": [
      "scale 1\n",
      "min\n",
      "0 l2 1.54935 op 9 ap 8\n",
      "1 l2 1.76481 op 4 ap 9\n",
      "2 l2 1.8314 op 9 ap 8\n",
      "avg 3.86892 at 58\n",
      "56 l2 3.77307 op 3 ap 2\n",
      "57 l2 3.90243 op 9 ap 0\n",
      "58 l2 3.93325 op 2 ap 5\n"
     ]
    },
    {
     "data": {
      "image/png": "[encoded data removed]",
      "text/plain": [
       "<matplotlib.figure.Figure at 0x7f9d062aff50>"
      ]
     },
     "metadata": {},
     "output_type": "display_data"
    }
   ],
   "source": [
    "orig_imgs = np.load('results/mnist_orig_imgs.npy')\n",
    "\n",
    "def l2d(x, y):\n",
    "    return np.sqrt(np.sum(np.square(x - y)))\n",
    "raw = matplotlib.colors.Normalize(-1., 1.)\n",
    "#gs = gridspec.GridSpec(3, 5)\n",
    "gs = gridspec.GridSpec(2, 6)\n",
    "\n",
    "min_scale = 4\n",
    "scale = 1\n",
    "print 'scale', scale\n",
    "adv_imgs = np.load('results/mnist_adv_imgs.npy')\n",
    "ground_truth = np.argmax(np.load('results/mnist_orig_labels.npy'), 1)\n",
    "orig_pred = ground_truth\n",
    "adv_pred = np.argmax(np.load('results/mnist_target_labels.npy'), 1)\n",
    "d = zip(orig_imgs, adv_imgs, ground_truth, orig_pred, adv_pred)\n",
    "sd = sorted((l2d(oi, ai), oi, ai, op, ap) for oi, ai, gt, op, ap in d if op == gt and ap != gt)\n",
    "print 'min'\n",
    "plt.figure(figsize=(6, 2))\n",
    "for i in range(3):\n",
    "    l2, oi, ai, op, ap = sd[i]\n",
    "    print i, 'l2', l2, 'op', op, 'ap', ap\n",
    "    plt.subplot(gs[0, i])\n",
    "    plt.imshow(oi[:, :, 0], cmap='gray')\n",
    "    plt.axis('off')\n",
    "    plt.subplot(gs[1, i])\n",
    "    plt.imshow(ai[:, :, 0], cmap='gray')\n",
    "    plt.axis('off')\n",
    "    # plt.subplot(gs[2, i])\n",
    "    # plt.imshow(((ai - oi) * min_scale)[:, :, 0], norm=raw, cmap='RdBu')\n",
    "    # plt.axis('off')\n",
    "avg = np.average([l2 for l2, oi, ai, op, ap in sd])\n",
    "idx = bisect.bisect_left(sd, (avg, None, None, 0, 0))\n",
    "print 'avg', avg, 'at', idx\n",
    "for i in range(3):\n",
    "    l2, oi, ai, op, ap = sd[i + idx - 1]\n",
    "    print i + idx - 2, 'l2', l2, 'op', op, 'ap', ap\n",
    "    plt.subplot(gs[0, i + 3])\n",
    "    plt.imshow(oi[:, :, 0], cmap='gray')\n",
    "    plt.axis('off')\n",
    "    plt.subplot(gs[1, i + 3])\n",
    "    plt.imshow(ai[:, :, 0], cmap='gray')\n",
    "    plt.axis('off')\n",
    "    # plt.subplot(gs[2, i + 3])\n",
    "    # plt.imshow(((ai - oi) * scale)[:, :, 0], norm=raw, cmap='RdBu')\n",
    "    # plt.axis('off')\n",
    "plt.show()"
   ]
  },
  {
   "cell_type": "code",
   "execution_count": null,
   "metadata": {
    "collapsed": true
   },
   "outputs": [],
   "source": []
  }
 ],
 "metadata": {
  "kernelspec": {
   "display_name": "Python 2",
   "language": "python",
   "name": "python2"
  },
  "language_info": {
   "codemirror_mode": {
    "name": "ipython",
    "version": 2
   },
   "file_extension": ".py",
   "mimetype": "text/x-python",
   "name": "python",
   "nbconvert_exporter": "python",
   "pygments_lexer": "ipython2",
   "version": "2.7.12"
  }
 },
 "nbformat": 4,
 "nbformat_minor": 2
}
